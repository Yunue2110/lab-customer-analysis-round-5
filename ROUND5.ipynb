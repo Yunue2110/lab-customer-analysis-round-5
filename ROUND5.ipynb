{
 "cells": [
  {
   "cell_type": "code",
   "execution_count": 2,
   "id": "61ab9b91-dda9-4fae-bcab-c40fea728a1c",
   "metadata": {},
   "outputs": [],
   "source": [
    "import pandas as pd \n",
    "import numpy as np\n",
    "import matplotlib.pyplot as plt\n",
    "%matplotlib inline\n",
    "import seaborn as sns"
   ]
  },
  {
   "cell_type": "markdown",
   "id": "23995fa0-8162-4ee8-89c8-43bab2d367a4",
   "metadata": {},
   "source": [
    "## X-y Split\n"
   ]
  },
  {
   "cell_type": "code",
   "execution_count": 3,
   "id": "bdf139a7-de28-456a-a7cd-055a9e5ba5b7",
   "metadata": {},
   "outputs": [],
   "source": [
    "df1 = pd.read_csv('files_for_lab/csv_files/marketing_customer_analysis.csv', )"
   ]
  },
  {
   "cell_type": "code",
   "execution_count": 4,
   "id": "9ac40295-824b-497d-a47a-849d12a76641",
   "metadata": {},
   "outputs": [],
   "source": [
    "df1.columns= df1.columns.str.lower().str.replace(' ','_')"
   ]
  },
  {
   "cell_type": "code",
   "execution_count": 5,
   "id": "17af045f-6d63-44fd-b57b-c7ec0ac2ed3e",
   "metadata": {},
   "outputs": [
    {
     "data": {
      "text/plain": [
       "Index(['customer_lifetime_value', 'income', 'monthly_premium_auto',\n",
       "       'months_since_last_claim', 'months_since_policy_inception',\n",
       "       'number_of_open_complaints', 'number_of_policies',\n",
       "       'total_claim_amount'],\n",
       "      dtype='object')"
      ]
     },
     "execution_count": 5,
     "metadata": {},
     "output_type": "execute_result"
    }
   ],
   "source": [
    "df1_num= df1.select_dtypes('number')\n",
    "df1_num.columns"
   ]
  },
  {
   "cell_type": "code",
   "execution_count": 6,
   "id": "7075ebc8-90c0-4c35-9f9f-3a20e0e55f95",
   "metadata": {},
   "outputs": [
    {
     "data": {
      "text/html": [
       "<div>\n",
       "<style scoped>\n",
       "    .dataframe tbody tr th:only-of-type {\n",
       "        vertical-align: middle;\n",
       "    }\n",
       "\n",
       "    .dataframe tbody tr th {\n",
       "        vertical-align: top;\n",
       "    }\n",
       "\n",
       "    .dataframe thead th {\n",
       "        text-align: right;\n",
       "    }\n",
       "</style>\n",
       "<table border=\"1\" class=\"dataframe\">\n",
       "  <thead>\n",
       "    <tr style=\"text-align: right;\">\n",
       "      <th></th>\n",
       "      <th>customer_lifetime_value</th>\n",
       "      <th>income</th>\n",
       "      <th>monthly_premium_auto</th>\n",
       "      <th>months_since_last_claim</th>\n",
       "      <th>months_since_policy_inception</th>\n",
       "      <th>number_of_open_complaints</th>\n",
       "      <th>number_of_policies</th>\n",
       "      <th>total_claim_amount</th>\n",
       "    </tr>\n",
       "  </thead>\n",
       "  <tbody>\n",
       "    <tr>\n",
       "      <th>0</th>\n",
       "      <td>2763.519279</td>\n",
       "      <td>56274</td>\n",
       "      <td>69</td>\n",
       "      <td>32</td>\n",
       "      <td>5</td>\n",
       "      <td>0</td>\n",
       "      <td>1</td>\n",
       "      <td>384.811147</td>\n",
       "    </tr>\n",
       "    <tr>\n",
       "      <th>1</th>\n",
       "      <td>6979.535903</td>\n",
       "      <td>0</td>\n",
       "      <td>94</td>\n",
       "      <td>13</td>\n",
       "      <td>42</td>\n",
       "      <td>0</td>\n",
       "      <td>8</td>\n",
       "      <td>1131.464935</td>\n",
       "    </tr>\n",
       "    <tr>\n",
       "      <th>2</th>\n",
       "      <td>12887.431650</td>\n",
       "      <td>48767</td>\n",
       "      <td>108</td>\n",
       "      <td>18</td>\n",
       "      <td>38</td>\n",
       "      <td>0</td>\n",
       "      <td>2</td>\n",
       "      <td>566.472247</td>\n",
       "    </tr>\n",
       "    <tr>\n",
       "      <th>3</th>\n",
       "      <td>7645.861827</td>\n",
       "      <td>0</td>\n",
       "      <td>106</td>\n",
       "      <td>18</td>\n",
       "      <td>65</td>\n",
       "      <td>0</td>\n",
       "      <td>7</td>\n",
       "      <td>529.881344</td>\n",
       "    </tr>\n",
       "    <tr>\n",
       "      <th>4</th>\n",
       "      <td>2813.692575</td>\n",
       "      <td>43836</td>\n",
       "      <td>73</td>\n",
       "      <td>12</td>\n",
       "      <td>44</td>\n",
       "      <td>0</td>\n",
       "      <td>1</td>\n",
       "      <td>138.130879</td>\n",
       "    </tr>\n",
       "    <tr>\n",
       "      <th>...</th>\n",
       "      <td>...</td>\n",
       "      <td>...</td>\n",
       "      <td>...</td>\n",
       "      <td>...</td>\n",
       "      <td>...</td>\n",
       "      <td>...</td>\n",
       "      <td>...</td>\n",
       "      <td>...</td>\n",
       "    </tr>\n",
       "    <tr>\n",
       "      <th>9129</th>\n",
       "      <td>23405.987980</td>\n",
       "      <td>71941</td>\n",
       "      <td>73</td>\n",
       "      <td>18</td>\n",
       "      <td>89</td>\n",
       "      <td>0</td>\n",
       "      <td>2</td>\n",
       "      <td>198.234764</td>\n",
       "    </tr>\n",
       "    <tr>\n",
       "      <th>9130</th>\n",
       "      <td>3096.511217</td>\n",
       "      <td>21604</td>\n",
       "      <td>79</td>\n",
       "      <td>14</td>\n",
       "      <td>28</td>\n",
       "      <td>0</td>\n",
       "      <td>1</td>\n",
       "      <td>379.200000</td>\n",
       "    </tr>\n",
       "    <tr>\n",
       "      <th>9131</th>\n",
       "      <td>8163.890428</td>\n",
       "      <td>0</td>\n",
       "      <td>85</td>\n",
       "      <td>9</td>\n",
       "      <td>37</td>\n",
       "      <td>3</td>\n",
       "      <td>2</td>\n",
       "      <td>790.784983</td>\n",
       "    </tr>\n",
       "    <tr>\n",
       "      <th>9132</th>\n",
       "      <td>7524.442436</td>\n",
       "      <td>21941</td>\n",
       "      <td>96</td>\n",
       "      <td>34</td>\n",
       "      <td>3</td>\n",
       "      <td>0</td>\n",
       "      <td>3</td>\n",
       "      <td>691.200000</td>\n",
       "    </tr>\n",
       "    <tr>\n",
       "      <th>9133</th>\n",
       "      <td>2611.836866</td>\n",
       "      <td>0</td>\n",
       "      <td>77</td>\n",
       "      <td>3</td>\n",
       "      <td>90</td>\n",
       "      <td>0</td>\n",
       "      <td>1</td>\n",
       "      <td>369.600000</td>\n",
       "    </tr>\n",
       "  </tbody>\n",
       "</table>\n",
       "<p>9134 rows × 8 columns</p>\n",
       "</div>"
      ],
      "text/plain": [
       "      customer_lifetime_value  income  monthly_premium_auto  \\\n",
       "0                 2763.519279   56274                    69   \n",
       "1                 6979.535903       0                    94   \n",
       "2                12887.431650   48767                   108   \n",
       "3                 7645.861827       0                   106   \n",
       "4                 2813.692575   43836                    73   \n",
       "...                       ...     ...                   ...   \n",
       "9129             23405.987980   71941                    73   \n",
       "9130              3096.511217   21604                    79   \n",
       "9131              8163.890428       0                    85   \n",
       "9132              7524.442436   21941                    96   \n",
       "9133              2611.836866       0                    77   \n",
       "\n",
       "      months_since_last_claim  months_since_policy_inception  \\\n",
       "0                          32                              5   \n",
       "1                          13                             42   \n",
       "2                          18                             38   \n",
       "3                          18                             65   \n",
       "4                          12                             44   \n",
       "...                       ...                            ...   \n",
       "9129                       18                             89   \n",
       "9130                       14                             28   \n",
       "9131                        9                             37   \n",
       "9132                       34                              3   \n",
       "9133                        3                             90   \n",
       "\n",
       "      number_of_open_complaints  number_of_policies  total_claim_amount  \n",
       "0                             0                   1          384.811147  \n",
       "1                             0                   8         1131.464935  \n",
       "2                             0                   2          566.472247  \n",
       "3                             0                   7          529.881344  \n",
       "4                             0                   1          138.130879  \n",
       "...                         ...                 ...                 ...  \n",
       "9129                          0                   2          198.234764  \n",
       "9130                          0                   1          379.200000  \n",
       "9131                          3                   2          790.784983  \n",
       "9132                          0                   3          691.200000  \n",
       "9133                          0                   1          369.600000  \n",
       "\n",
       "[9134 rows x 8 columns]"
      ]
     },
     "execution_count": 6,
     "metadata": {},
     "output_type": "execute_result"
    }
   ],
   "source": [
    "df1_num"
   ]
  },
  {
   "cell_type": "code",
   "execution_count": 7,
   "id": "9527d683-90fa-4129-b74f-38e41cb6b651",
   "metadata": {},
   "outputs": [
    {
     "data": {
      "text/plain": [
       "0        384.811147\n",
       "1       1131.464935\n",
       "2        566.472247\n",
       "3        529.881344\n",
       "4        138.130879\n",
       "           ...     \n",
       "9129     198.234764\n",
       "9130     379.200000\n",
       "9131     790.784983\n",
       "9132     691.200000\n",
       "9133     369.600000\n",
       "Name: total_claim_amount, Length: 9134, dtype: float64"
      ]
     },
     "execution_count": 7,
     "metadata": {},
     "output_type": "execute_result"
    }
   ],
   "source": [
    "y=df1_num['total_claim_amount']\n",
    "y"
   ]
  },
  {
   "cell_type": "code",
   "execution_count": 8,
   "id": "0011987b-8462-4c1e-9522-6a86dbe70f5b",
   "metadata": {},
   "outputs": [
    {
     "data": {
      "text/html": [
       "<div>\n",
       "<style scoped>\n",
       "    .dataframe tbody tr th:only-of-type {\n",
       "        vertical-align: middle;\n",
       "    }\n",
       "\n",
       "    .dataframe tbody tr th {\n",
       "        vertical-align: top;\n",
       "    }\n",
       "\n",
       "    .dataframe thead th {\n",
       "        text-align: right;\n",
       "    }\n",
       "</style>\n",
       "<table border=\"1\" class=\"dataframe\">\n",
       "  <thead>\n",
       "    <tr style=\"text-align: right;\">\n",
       "      <th></th>\n",
       "      <th>customer_lifetime_value</th>\n",
       "      <th>income</th>\n",
       "      <th>monthly_premium_auto</th>\n",
       "      <th>months_since_last_claim</th>\n",
       "      <th>months_since_policy_inception</th>\n",
       "      <th>number_of_open_complaints</th>\n",
       "      <th>number_of_policies</th>\n",
       "    </tr>\n",
       "  </thead>\n",
       "  <tbody>\n",
       "    <tr>\n",
       "      <th>0</th>\n",
       "      <td>2763.519279</td>\n",
       "      <td>56274</td>\n",
       "      <td>69</td>\n",
       "      <td>32</td>\n",
       "      <td>5</td>\n",
       "      <td>0</td>\n",
       "      <td>1</td>\n",
       "    </tr>\n",
       "    <tr>\n",
       "      <th>1</th>\n",
       "      <td>6979.535903</td>\n",
       "      <td>0</td>\n",
       "      <td>94</td>\n",
       "      <td>13</td>\n",
       "      <td>42</td>\n",
       "      <td>0</td>\n",
       "      <td>8</td>\n",
       "    </tr>\n",
       "    <tr>\n",
       "      <th>2</th>\n",
       "      <td>12887.431650</td>\n",
       "      <td>48767</td>\n",
       "      <td>108</td>\n",
       "      <td>18</td>\n",
       "      <td>38</td>\n",
       "      <td>0</td>\n",
       "      <td>2</td>\n",
       "    </tr>\n",
       "    <tr>\n",
       "      <th>3</th>\n",
       "      <td>7645.861827</td>\n",
       "      <td>0</td>\n",
       "      <td>106</td>\n",
       "      <td>18</td>\n",
       "      <td>65</td>\n",
       "      <td>0</td>\n",
       "      <td>7</td>\n",
       "    </tr>\n",
       "    <tr>\n",
       "      <th>4</th>\n",
       "      <td>2813.692575</td>\n",
       "      <td>43836</td>\n",
       "      <td>73</td>\n",
       "      <td>12</td>\n",
       "      <td>44</td>\n",
       "      <td>0</td>\n",
       "      <td>1</td>\n",
       "    </tr>\n",
       "    <tr>\n",
       "      <th>...</th>\n",
       "      <td>...</td>\n",
       "      <td>...</td>\n",
       "      <td>...</td>\n",
       "      <td>...</td>\n",
       "      <td>...</td>\n",
       "      <td>...</td>\n",
       "      <td>...</td>\n",
       "    </tr>\n",
       "    <tr>\n",
       "      <th>9129</th>\n",
       "      <td>23405.987980</td>\n",
       "      <td>71941</td>\n",
       "      <td>73</td>\n",
       "      <td>18</td>\n",
       "      <td>89</td>\n",
       "      <td>0</td>\n",
       "      <td>2</td>\n",
       "    </tr>\n",
       "    <tr>\n",
       "      <th>9130</th>\n",
       "      <td>3096.511217</td>\n",
       "      <td>21604</td>\n",
       "      <td>79</td>\n",
       "      <td>14</td>\n",
       "      <td>28</td>\n",
       "      <td>0</td>\n",
       "      <td>1</td>\n",
       "    </tr>\n",
       "    <tr>\n",
       "      <th>9131</th>\n",
       "      <td>8163.890428</td>\n",
       "      <td>0</td>\n",
       "      <td>85</td>\n",
       "      <td>9</td>\n",
       "      <td>37</td>\n",
       "      <td>3</td>\n",
       "      <td>2</td>\n",
       "    </tr>\n",
       "    <tr>\n",
       "      <th>9132</th>\n",
       "      <td>7524.442436</td>\n",
       "      <td>21941</td>\n",
       "      <td>96</td>\n",
       "      <td>34</td>\n",
       "      <td>3</td>\n",
       "      <td>0</td>\n",
       "      <td>3</td>\n",
       "    </tr>\n",
       "    <tr>\n",
       "      <th>9133</th>\n",
       "      <td>2611.836866</td>\n",
       "      <td>0</td>\n",
       "      <td>77</td>\n",
       "      <td>3</td>\n",
       "      <td>90</td>\n",
       "      <td>0</td>\n",
       "      <td>1</td>\n",
       "    </tr>\n",
       "  </tbody>\n",
       "</table>\n",
       "<p>9134 rows × 7 columns</p>\n",
       "</div>"
      ],
      "text/plain": [
       "      customer_lifetime_value  income  monthly_premium_auto  \\\n",
       "0                 2763.519279   56274                    69   \n",
       "1                 6979.535903       0                    94   \n",
       "2                12887.431650   48767                   108   \n",
       "3                 7645.861827       0                   106   \n",
       "4                 2813.692575   43836                    73   \n",
       "...                       ...     ...                   ...   \n",
       "9129             23405.987980   71941                    73   \n",
       "9130              3096.511217   21604                    79   \n",
       "9131              8163.890428       0                    85   \n",
       "9132              7524.442436   21941                    96   \n",
       "9133              2611.836866       0                    77   \n",
       "\n",
       "      months_since_last_claim  months_since_policy_inception  \\\n",
       "0                          32                              5   \n",
       "1                          13                             42   \n",
       "2                          18                             38   \n",
       "3                          18                             65   \n",
       "4                          12                             44   \n",
       "...                       ...                            ...   \n",
       "9129                       18                             89   \n",
       "9130                       14                             28   \n",
       "9131                        9                             37   \n",
       "9132                       34                              3   \n",
       "9133                        3                             90   \n",
       "\n",
       "      number_of_open_complaints  number_of_policies  \n",
       "0                             0                   1  \n",
       "1                             0                   8  \n",
       "2                             0                   2  \n",
       "3                             0                   7  \n",
       "4                             0                   1  \n",
       "...                         ...                 ...  \n",
       "9129                          0                   2  \n",
       "9130                          0                   1  \n",
       "9131                          3                   2  \n",
       "9132                          0                   3  \n",
       "9133                          0                   1  \n",
       "\n",
       "[9134 rows x 7 columns]"
      ]
     },
     "execution_count": 8,
     "metadata": {},
     "output_type": "execute_result"
    }
   ],
   "source": [
    "x= df1_num.drop(['total_claim_amount'] , axis=1)\n",
    "x"
   ]
  },
  {
   "cell_type": "markdown",
   "id": "658be93d-2463-4b8b-9fef-f59cd5a86ba6",
   "metadata": {},
   "source": [
    "## Train Test split"
   ]
  },
  {
   "cell_type": "code",
   "execution_count": 9,
   "id": "641b38f6-c877-49d0-9e9e-09969d6b26bc",
   "metadata": {},
   "outputs": [],
   "source": [
    "from sklearn.model_selection import train_test_split\n",
    "x_train, x_test , y_train , y_test= train_test_split( x,y, test_size=0.25, random_state= 42)"
   ]
  },
  {
   "cell_type": "code",
   "execution_count": 10,
   "id": "59352fea-0a0a-4798-b3f0-87ea3b2e80f5",
   "metadata": {},
   "outputs": [
    {
     "data": {
      "text/plain": [
       "(6850, 7)"
      ]
     },
     "execution_count": 10,
     "metadata": {},
     "output_type": "execute_result"
    }
   ],
   "source": [
    "x_train.shape"
   ]
  },
  {
   "cell_type": "code",
   "execution_count": 11,
   "id": "c62e7499-33bf-4c80-87c0-0741b6f6059e",
   "metadata": {},
   "outputs": [
    {
     "data": {
      "text/plain": [
       "(2284, 7)"
      ]
     },
     "execution_count": 11,
     "metadata": {},
     "output_type": "execute_result"
    }
   ],
   "source": [
    "x_test.shape"
   ]
  },
  {
   "cell_type": "markdown",
   "id": "b71a3882-8480-464d-ab66-8671e19658fc",
   "metadata": {},
   "source": [
    "## NORMALIZATION"
   ]
  },
  {
   "cell_type": "code",
   "execution_count": 21,
   "id": "2efa2c43-905e-4d40-9bc8-5f13d89db7f9",
   "metadata": {},
   "outputs": [],
   "source": [
    "from sklearn.preprocessing import PowerTransformer"
   ]
  },
  {
   "cell_type": "code",
   "execution_count": 24,
   "id": "f420a010-afc9-4e2d-87dd-1278c5adb836",
   "metadata": {},
   "outputs": [
    {
     "data": {
      "text/html": [
       "<div>\n",
       "<style scoped>\n",
       "    .dataframe tbody tr th:only-of-type {\n",
       "        vertical-align: middle;\n",
       "    }\n",
       "\n",
       "    .dataframe tbody tr th {\n",
       "        vertical-align: top;\n",
       "    }\n",
       "\n",
       "    .dataframe thead th {\n",
       "        text-align: right;\n",
       "    }\n",
       "</style>\n",
       "<table border=\"1\" class=\"dataframe\">\n",
       "  <thead>\n",
       "    <tr style=\"text-align: right;\">\n",
       "      <th></th>\n",
       "      <th>customer_lifetime_value</th>\n",
       "      <th>income</th>\n",
       "      <th>monthly_premium_auto</th>\n",
       "      <th>months_since_last_claim</th>\n",
       "      <th>months_since_policy_inception</th>\n",
       "      <th>number_of_open_complaints</th>\n",
       "      <th>number_of_policies</th>\n",
       "    </tr>\n",
       "  </thead>\n",
       "  <tbody>\n",
       "    <tr>\n",
       "      <th>0</th>\n",
       "      <td>-0.154555</td>\n",
       "      <td>0.807677</td>\n",
       "      <td>1.360867</td>\n",
       "      <td>1.657330</td>\n",
       "      <td>1.471319</td>\n",
       "      <td>-0.500344</td>\n",
       "      <td>-1.152021</td>\n",
       "    </tr>\n",
       "    <tr>\n",
       "      <th>1</th>\n",
       "      <td>1.102186</td>\n",
       "      <td>-1.655812</td>\n",
       "      <td>1.806474</td>\n",
       "      <td>0.058035</td>\n",
       "      <td>0.799894</td>\n",
       "      <td>-0.500344</td>\n",
       "      <td>0.873446</td>\n",
       "    </tr>\n",
       "    <tr>\n",
       "      <th>2</th>\n",
       "      <td>0.434349</td>\n",
       "      <td>0.401585</td>\n",
       "      <td>0.584358</td>\n",
       "      <td>1.188175</td>\n",
       "      <td>0.162640</td>\n",
       "      <td>1.953933</td>\n",
       "      <td>1.126458</td>\n",
       "    </tr>\n",
       "  </tbody>\n",
       "</table>\n",
       "</div>"
      ],
      "text/plain": [
       "   customer_lifetime_value    income  monthly_premium_auto  \\\n",
       "0                -0.154555  0.807677              1.360867   \n",
       "1                 1.102186 -1.655812              1.806474   \n",
       "2                 0.434349  0.401585              0.584358   \n",
       "\n",
       "   months_since_last_claim  months_since_policy_inception  \\\n",
       "0                 1.657330                       1.471319   \n",
       "1                 0.058035                       0.799894   \n",
       "2                 1.188175                       0.162640   \n",
       "\n",
       "   number_of_open_complaints  number_of_policies  \n",
       "0                  -0.500344           -1.152021  \n",
       "1                  -0.500344            0.873446  \n",
       "2                   1.953933            1.126458  "
      ]
     },
     "execution_count": 24,
     "metadata": {},
     "output_type": "execute_result"
    }
   ],
   "source": [
    "pt = PowerTransformer(method='yeo-johnson', standardize=True)\n",
    "pt.fit(x_train)\n",
    "x_train_pt = pt.transform(x_train)\n",
    "df1_x_train_pt = pd.DataFrame(x_train_pt, columns=x_train.columns)\n",
    "df1_x_train_pt.head(3)"
   ]
  },
  {
   "cell_type": "code",
   "execution_count": 25,
   "id": "2c330746-567a-4186-8b0d-7119dc20a73a",
   "metadata": {},
   "outputs": [
    {
     "data": {
      "text/html": [
       "<div>\n",
       "<style scoped>\n",
       "    .dataframe tbody tr th:only-of-type {\n",
       "        vertical-align: middle;\n",
       "    }\n",
       "\n",
       "    .dataframe tbody tr th {\n",
       "        vertical-align: top;\n",
       "    }\n",
       "\n",
       "    .dataframe thead th {\n",
       "        text-align: right;\n",
       "    }\n",
       "</style>\n",
       "<table border=\"1\" class=\"dataframe\">\n",
       "  <thead>\n",
       "    <tr style=\"text-align: right;\">\n",
       "      <th></th>\n",
       "      <th>customer_lifetime_value</th>\n",
       "      <th>income</th>\n",
       "      <th>monthly_premium_auto</th>\n",
       "      <th>months_since_last_claim</th>\n",
       "      <th>months_since_policy_inception</th>\n",
       "      <th>number_of_open_complaints</th>\n",
       "      <th>number_of_policies</th>\n",
       "    </tr>\n",
       "  </thead>\n",
       "  <tbody>\n",
       "    <tr>\n",
       "      <th>8607</th>\n",
       "      <td>5389.499465</td>\n",
       "      <td>66429</td>\n",
       "      <td>136</td>\n",
       "      <td>35</td>\n",
       "      <td>93</td>\n",
       "      <td>0</td>\n",
       "      <td>1</td>\n",
       "    </tr>\n",
       "    <tr>\n",
       "      <th>2121</th>\n",
       "      <td>12786.668980</td>\n",
       "      <td>0</td>\n",
       "      <td>180</td>\n",
       "      <td>14</td>\n",
       "      <td>70</td>\n",
       "      <td>0</td>\n",
       "      <td>4</td>\n",
       "    </tr>\n",
       "    <tr>\n",
       "      <th>5361</th>\n",
       "      <td>7834.151482</td>\n",
       "      <td>36094</td>\n",
       "      <td>99</td>\n",
       "      <td>28</td>\n",
       "      <td>50</td>\n",
       "      <td>1</td>\n",
       "      <td>5</td>\n",
       "    </tr>\n",
       "    <tr>\n",
       "      <th>7003</th>\n",
       "      <td>8223.164916</td>\n",
       "      <td>95102</td>\n",
       "      <td>101</td>\n",
       "      <td>6</td>\n",
       "      <td>73</td>\n",
       "      <td>0</td>\n",
       "      <td>8</td>\n",
       "    </tr>\n",
       "    <tr>\n",
       "      <th>7416</th>\n",
       "      <td>9031.214859</td>\n",
       "      <td>0</td>\n",
       "      <td>122</td>\n",
       "      <td>15</td>\n",
       "      <td>47</td>\n",
       "      <td>0</td>\n",
       "      <td>9</td>\n",
       "    </tr>\n",
       "  </tbody>\n",
       "</table>\n",
       "</div>"
      ],
      "text/plain": [
       "      customer_lifetime_value  income  monthly_premium_auto  \\\n",
       "8607              5389.499465   66429                   136   \n",
       "2121             12786.668980       0                   180   \n",
       "5361              7834.151482   36094                    99   \n",
       "7003              8223.164916   95102                   101   \n",
       "7416              9031.214859       0                   122   \n",
       "\n",
       "      months_since_last_claim  months_since_policy_inception  \\\n",
       "8607                       35                             93   \n",
       "2121                       14                             70   \n",
       "5361                       28                             50   \n",
       "7003                        6                             73   \n",
       "7416                       15                             47   \n",
       "\n",
       "      number_of_open_complaints  number_of_policies  \n",
       "8607                          0                   1  \n",
       "2121                          0                   4  \n",
       "5361                          1                   5  \n",
       "7003                          0                   8  \n",
       "7416                          0                   9  "
      ]
     },
     "execution_count": 25,
     "metadata": {},
     "output_type": "execute_result"
    }
   ],
   "source": [
    "x_train.head()"
   ]
  },
  {
   "cell_type": "code",
   "execution_count": 29,
   "id": "9c50ce99-e31c-4f31-8cb6-462426a18cfa",
   "metadata": {},
   "outputs": [
    {
     "data": {
      "text/html": [
       "<div>\n",
       "<style scoped>\n",
       "    .dataframe tbody tr th:only-of-type {\n",
       "        vertical-align: middle;\n",
       "    }\n",
       "\n",
       "    .dataframe tbody tr th {\n",
       "        vertical-align: top;\n",
       "    }\n",
       "\n",
       "    .dataframe thead th {\n",
       "        text-align: right;\n",
       "    }\n",
       "</style>\n",
       "<table border=\"1\" class=\"dataframe\">\n",
       "  <thead>\n",
       "    <tr style=\"text-align: right;\">\n",
       "      <th></th>\n",
       "      <th>customer_lifetime_value</th>\n",
       "      <th>income</th>\n",
       "      <th>monthly_premium_auto</th>\n",
       "      <th>months_since_last_claim</th>\n",
       "      <th>months_since_policy_inception</th>\n",
       "      <th>number_of_open_complaints</th>\n",
       "      <th>number_of_policies</th>\n",
       "    </tr>\n",
       "  </thead>\n",
       "  <tbody>\n",
       "    <tr>\n",
       "      <th>0</th>\n",
       "      <td>-0.580388</td>\n",
       "      <td>0.892951</td>\n",
       "      <td>0.782412</td>\n",
       "      <td>-1.675324</td>\n",
       "      <td>0.129050</td>\n",
       "      <td>-0.500344</td>\n",
       "      <td>-1.152021</td>\n",
       "    </tr>\n",
       "    <tr>\n",
       "      <th>1</th>\n",
       "      <td>-0.116343</td>\n",
       "      <td>0.148364</td>\n",
       "      <td>-0.709595</td>\n",
       "      <td>-0.698111</td>\n",
       "      <td>-1.431989</td>\n",
       "      <td>-0.500344</td>\n",
       "      <td>0.873446</td>\n",
       "    </tr>\n",
       "    <tr>\n",
       "      <th>2</th>\n",
       "      <td>-0.771454</td>\n",
       "      <td>1.079498</td>\n",
       "      <td>0.420686</td>\n",
       "      <td>-1.278645</td>\n",
       "      <td>-0.254527</td>\n",
       "      <td>-0.500344</td>\n",
       "      <td>-1.152021</td>\n",
       "    </tr>\n",
       "  </tbody>\n",
       "</table>\n",
       "</div>"
      ],
      "text/plain": [
       "   customer_lifetime_value    income  monthly_premium_auto  \\\n",
       "0                -0.580388  0.892951              0.782412   \n",
       "1                -0.116343  0.148364             -0.709595   \n",
       "2                -0.771454  1.079498              0.420686   \n",
       "\n",
       "   months_since_last_claim  months_since_policy_inception  \\\n",
       "0                -1.675324                       0.129050   \n",
       "1                -0.698111                      -1.431989   \n",
       "2                -1.278645                      -0.254527   \n",
       "\n",
       "   number_of_open_complaints  number_of_policies  \n",
       "0                  -0.500344           -1.152021  \n",
       "1                  -0.500344            0.873446  \n",
       "2                  -0.500344           -1.152021  "
      ]
     },
     "execution_count": 29,
     "metadata": {},
     "output_type": "execute_result"
    }
   ],
   "source": [
    "x_test_pt = pt.transform(x_test)\n",
    "df1_x_test_pt = pd.DataFrame(x_test_pt, columns=x_train.columns)\n",
    "df1_x_test_pt.head(3)"
   ]
  },
  {
   "cell_type": "code",
   "execution_count": null,
   "id": "f84cb42f-a35c-4025-9502-ebd5d58c30b2",
   "metadata": {},
   "outputs": [],
   "source": []
  },
  {
   "cell_type": "code",
   "execution_count": null,
   "id": "4a7d0796-65f8-49e7-9ff6-3095d37a3baf",
   "metadata": {},
   "outputs": [],
   "source": []
  },
  {
   "cell_type": "code",
   "execution_count": null,
   "id": "00d396f0-1d29-4fe1-af43-15dcf686fead",
   "metadata": {},
   "outputs": [],
   "source": []
  },
  {
   "cell_type": "markdown",
   "id": "2cbb15aa-2486-41dd-8498-0bc98ffa0a6d",
   "metadata": {},
   "source": [
    "## MODELING"
   ]
  },
  {
   "cell_type": "code",
   "execution_count": 14,
   "id": "ce6a2e89-cf06-4411-9215-4ee0c76cea33",
   "metadata": {},
   "outputs": [],
   "source": [
    "from sklearn.linear_model import LinearRegression as LinReg\n",
    "linreg=LinReg() #model\n",
    "linreg.fit(x_train , y_train)  #model train\n",
    "y_pred_linreg=linreg.predict(x_test) #model predition\n"
   ]
  },
  {
   "cell_type": "code",
   "execution_count": 28,
   "id": "4fc0fb12-e200-418a-98f5-0d37c05f6ae4",
   "metadata": {},
   "outputs": [
    {
     "data": {
      "text/plain": [
       "0.4359520131133471"
      ]
     },
     "execution_count": 28,
     "metadata": {},
     "output_type": "execute_result"
    }
   ],
   "source": [
    "#Modelo con datos transformados (PowerTransformation yeo johnson)\n",
    "linreg_pt = LinReg()\n",
    "linreg_pt.fit(df1_x_train_pt, y_train)\n",
    "y_pred_train_pt = linreg_pt.predict(df1_x_train_pt)\n",
    "\n",
    "train_score_pt=linreg_pt.score(df1_x_train_pt, y_train)\n",
    "train_score_pt"
   ]
  },
  {
   "cell_type": "code",
   "execution_count": null,
   "id": "1956c26d-d1e5-4782-908e-8df700adfbf3",
   "metadata": {},
   "outputs": [],
   "source": []
  },
  {
   "cell_type": "raw",
   "id": "9d2e7df2-6670-46e7-a1fa-3a9774433c3a",
   "metadata": {},
   "source": [
    "R2"
   ]
  },
  {
   "cell_type": "code",
   "execution_count": 15,
   "id": "f583b3e4-3c9c-4a03-bf5a-3b92042f0565",
   "metadata": {},
   "outputs": [
    {
     "data": {
      "text/plain": [
       "(0.5217065876763485, 0.5083881701685621)"
      ]
     },
     "execution_count": 15,
     "metadata": {},
     "output_type": "execute_result"
    }
   ],
   "source": [
    "train_score=linreg.score(x_train , y_train)\n",
    "test_score=linreg.score(x_test, y_test)\n",
    "train_score , test_score"
   ]
  },
  {
   "cell_type": "code",
   "execution_count": 19,
   "id": "5f069023-c7e5-4ba1-ab61-9b97ec5b51fe",
   "metadata": {},
   "outputs": [
    {
     "data": {
      "text/plain": [
       "(40907.80860013017, 39766.476073207465)"
      ]
     },
     "execution_count": 19,
     "metadata": {},
     "output_type": "execute_result"
    }
   ],
   "source": [
    "from sklearn.metrics import mean_squared_error as mse\n",
    "train_mse = mse(y_pred_train,y_train)\n",
    "test_mse = mse(y_pred_test,y_test)\n",
    "train_mse, test_mse"
   ]
  },
  {
   "cell_type": "code",
   "execution_count": 20,
   "id": "ad3658e0-b48d-4b28-a41a-828b9664893d",
   "metadata": {},
   "outputs": [
    {
     "data": {
      "text/plain": [
       "(144.6228085334776, 144.2248907750531)"
      ]
     },
     "execution_count": 20,
     "metadata": {},
     "output_type": "execute_result"
    }
   ],
   "source": [
    "from sklearn.metrics import mean_absolute_error as mae\n",
    "train_mae = mae(y_pred_train,y_train)\n",
    "test_mae = mae(y_pred_test,y_test)\n",
    "train_mae, test_mae"
   ]
  },
  {
   "cell_type": "code",
   "execution_count": null,
   "id": "9cab5db3-22e5-4e88-b1bd-6bf14f2fa99c",
   "metadata": {},
   "outputs": [],
   "source": []
  }
 ],
 "metadata": {
  "kernelspec": {
   "display_name": "Python 3 (ipykernel)",
   "language": "python",
   "name": "python3"
  },
  "language_info": {
   "codemirror_mode": {
    "name": "ipython",
    "version": 3
   },
   "file_extension": ".py",
   "mimetype": "text/x-python",
   "name": "python",
   "nbconvert_exporter": "python",
   "pygments_lexer": "ipython3",
   "version": "3.9.13"
  }
 },
 "nbformat": 4,
 "nbformat_minor": 5
}
